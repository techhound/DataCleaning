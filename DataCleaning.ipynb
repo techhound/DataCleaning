{
 "cells": [
  {
   "cell_type": "code",
   "execution_count": 16,
   "metadata": {
    "executionInfo": {
     "elapsed": 1045,
     "status": "ok",
     "timestamp": 1753143072227,
     "user": {
      "displayName": "James Cochrane",
      "userId": "13468421037100840198"
     },
     "user_tz": 240
    },
    "id": "_YLhCvhOeBPr"
   },
   "outputs": [],
   "source": [
    "import pandas as pd\n",
    "import matplotlib.pyplot as plt\n",
    "import seaborn as sns\n"
   ]
  },
  {
   "cell_type": "code",
   "execution_count": 17,
   "metadata": {
    "id": "YZcaKVpyeGxz"
   },
   "outputs": [
    {
     "name": "stdout",
     "output_type": "stream",
     "text": [
      "['Salaries no CSuite', 'Salaries', 'Histogram', 'Scatter (Outlier)', 'Scatter (No Outlier)']\n"
     ]
    }
   ],
   "source": [
    "excel_file = pd.ExcelFile('https://raw.githubusercontent.com/techhound/DataCleaning/refs/heads/main/DataCleaning.xlsx')\n",
    "print(excel_file.sheet_names)  # List of all sheet names"
   ]
  },
  {
   "cell_type": "code",
   "execution_count": 18,
   "metadata": {},
   "outputs": [],
   "source": [
    "# Load all the worksheets\n",
    "\n",
    "salaries = excel_file.parse(\"Salaries\")\n",
    "salaries_no_CSuite = excel_file.parse(\"Salaries no CSuite\")\n",
    "histogram = excel_file.parse(\"Histogram\")"
   ]
  },
  {
   "cell_type": "code",
   "execution_count": 21,
   "metadata": {},
   "outputs": [
    {
     "data": {
      "text/html": [
       "<div>\n",
       "<style scoped>\n",
       "    .dataframe tbody tr th:only-of-type {\n",
       "        vertical-align: middle;\n",
       "    }\n",
       "\n",
       "    .dataframe tbody tr th {\n",
       "        vertical-align: top;\n",
       "    }\n",
       "\n",
       "    .dataframe thead th {\n",
       "        text-align: right;\n",
       "    }\n",
       "</style>\n",
       "<table border=\"1\" class=\"dataframe\">\n",
       "  <thead>\n",
       "    <tr style=\"text-align: right;\">\n",
       "      <th></th>\n",
       "      <th>ExamScore</th>\n",
       "    </tr>\n",
       "  </thead>\n",
       "  <tbody>\n",
       "    <tr>\n",
       "      <th>0</th>\n",
       "      <td>92</td>\n",
       "    </tr>\n",
       "    <tr>\n",
       "      <th>1</th>\n",
       "      <td>79</td>\n",
       "    </tr>\n",
       "    <tr>\n",
       "      <th>2</th>\n",
       "      <td>84</td>\n",
       "    </tr>\n",
       "    <tr>\n",
       "      <th>3</th>\n",
       "      <td>97</td>\n",
       "    </tr>\n",
       "    <tr>\n",
       "      <th>4</th>\n",
       "      <td>93</td>\n",
       "    </tr>\n",
       "  </tbody>\n",
       "</table>\n",
       "</div>"
      ],
      "text/plain": [
       "   ExamScore\n",
       "0         92\n",
       "1         79\n",
       "2         84\n",
       "3         97\n",
       "4         93"
      ]
     },
     "execution_count": 21,
     "metadata": {},
     "output_type": "execute_result"
    }
   ],
   "source": [
    "histogram.head()"
   ]
  },
  {
   "cell_type": "markdown",
   "metadata": {},
   "source": [
    "### Mean and Median for the Salaries \n",
    "\n",
    "As you'll see, the mean and the median will be much close for the"
   ]
  },
  {
   "cell_type": "code",
   "execution_count": 19,
   "metadata": {},
   "outputs": [
    {
     "name": "stdout",
     "output_type": "stream",
     "text": [
      "Mean for Salaries (include C-Suite execs): 101377.0, Median: 75939.0\n",
      "Mean for salaries_no_CSuite (exclude C-Suite execs): 77418.31, Median: 75168.0\n"
     ]
    }
   ],
   "source": [
    "print(f\"Mean for Salaries (include C-Suite execs): {salaries['Salary'].mean()}, Median: {salaries['Salary'].median()}\")\n",
    "print(f\"Mean for salaries_no_CSuite (exclude C-Suite execs): {salaries_no_CSuite['Salary'].mean()}, Median: {salaries_no_CSuite['Salary'].median()}\")\n"
   ]
  },
  {
   "cell_type": "code",
   "execution_count": 28,
   "metadata": {},
   "outputs": [
    {
     "data": {
      "text/plain": [
       "Text(0.5, 1.0, 'Exam Scores')"
      ]
     },
     "execution_count": 28,
     "metadata": {},
     "output_type": "execute_result"
    },
    {
     "data": {
      "image/png": "[encoded data removed]",
      "text/plain": [
       "<Figure size 1000x600 with 1 Axes>"
      ]
     },
     "metadata": {},
     "output_type": "display_data"
    }
   ],
   "source": [
    "plt.figure(figsize=(10, 6))\n",
    "sns.histplot(data=histogram, binwidth=3)\n",
    "plt.title(\"Exam Scores\")\n"
   ]
  }
 ],
 "metadata": {
  "colab": {
   "authorship_tag": "ABX9TyN0Dr/REM+6s987u/MOFv1S",
   "provenance": []
  },
  "kernelspec": {
   "display_name": "datacleaning",
   "language": "python",
   "name": "python3"
  },
  "language_info": {
   "codemirror_mode": {
    "name": "ipython",
    "version": 3
   },
   "file_extension": ".py",
   "mimetype": "text/x-python",
   "name": "python",
   "nbconvert_exporter": "python",
   "pygments_lexer": "ipython3",
   "version": "3.12.9"
  }
 },
 "nbformat": 4,
 "nbformat_minor": 0
}
