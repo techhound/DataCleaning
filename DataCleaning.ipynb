{
 "cells": [
  {
   "cell_type": "code",
   "execution_count": 1,
   "metadata": {
    "executionInfo": {
     "elapsed": 1045,
     "status": "ok",
     "timestamp": 1753143072227,
     "user": {
      "displayName": "James Cochrane",
      "userId": "13468421037100840198"
     },
     "user_tz": 240
    },
    "id": "_YLhCvhOeBPr"
   },
   "outputs": [],
   "source": [
    "import pandas as pd"
   ]
  },
  {
   "cell_type": "code",
   "execution_count": 2,
   "metadata": {
    "id": "YZcaKVpyeGxz"
   },
   "outputs": [
    {
     "name": "stdout",
     "output_type": "stream",
     "text": [
      "['Salaries']\n"
     ]
    }
   ],
   "source": [
    "excel_file = pd.ExcelFile('https://raw.githubusercontent.com/techhound/DataCleaning/refs/heads/main/DataCleaning.xlsx')\n",
    "print(excel_file.sheet_names)  # List of all sheet names"
   ]
  }
 ],
 "metadata": {
  "colab": {
   "authorship_tag": "ABX9TyN0Dr/REM+6s987u/MOFv1S",
   "provenance": []
  },
  "kernelspec": {
   "display_name": "datacleaning",
   "language": "python",
   "name": "python3"
  },
  "language_info": {
   "codemirror_mode": {
    "name": "ipython",
    "version": 3
   },
   "file_extension": ".py",
   "mimetype": "text/x-python",
   "name": "python",
   "nbconvert_exporter": "python",
   "pygments_lexer": "ipython3",
   "version": "3.12.9"
  }
 },
 "nbformat": 4,
 "nbformat_minor": 0
}
